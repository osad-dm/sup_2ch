{
  "nbformat": 4,
  "nbformat_minor": 0,
  "metadata": {
    "colab": {
      "name": "2ch_parser.ipynb",
      "provenance": [],
      "collapsed_sections": []
    },
    "kernelspec": {
      "name": "python3",
      "display_name": "Python 3"
    },
    "language_info": {
      "name": "python"
    }
  },
  "cells": [
    {
      "cell_type": "code",
      "metadata": {
        "colab": {
          "base_uri": "https://localhost:8080/"
        },
        "id": "dUH5vPtoeR9S",
        "outputId": "7e63f5a3-9c1a-4742-a228-817ad65d635c"
      },
      "source": [
        "!pip install fake_useragent"
      ],
      "execution_count": 2,
      "outputs": [
        {
          "output_type": "stream",
          "text": [
            "Collecting fake_useragent\n",
            "  Downloading https://files.pythonhosted.org/packages/d1/79/af647635d6968e2deb57a208d309f6069d31cb138066d7e821e575112a80/fake-useragent-0.1.11.tar.gz\n",
            "Building wheels for collected packages: fake-useragent\n",
            "  Building wheel for fake-useragent (setup.py) ... \u001b[?25l\u001b[?25hdone\n",
            "  Created wheel for fake-useragent: filename=fake_useragent-0.1.11-cp37-none-any.whl size=13485 sha256=abdb92421106aa0886c386f8df2c892fdab612e15478827cc687ea5a0f084711\n",
            "  Stored in directory: /root/.cache/pip/wheels/5e/63/09/d1dc15179f175357d3f5c00cbffbac37f9e8690d80545143ff\n",
            "Successfully built fake-useragent\n",
            "Installing collected packages: fake-useragent\n",
            "Successfully installed fake-useragent-0.1.11\n"
          ],
          "name": "stdout"
        }
      ]
    },
    {
      "cell_type": "code",
      "metadata": {
        "id": "PAO9u4qHdtd8"
      },
      "source": [
        "import urllib.request as lib\n",
        "import requests\n",
        "import json\n",
        "import os\n",
        "import re\n",
        "from collections import namedtuple"
      ],
      "execution_count": 107,
      "outputs": []
    },
    {
      "cell_type": "code",
      "metadata": {
        "id": "oZNo-dPqwOjA"
      },
      "source": [
        "s = lib.urlopen(GetThreadJson(\"https://2ch.hk/a/res/7082301.html\"))\n",
        "data = json.loads(s.read().decode())"
      ],
      "execution_count": 140,
      "outputs": []
    },
    {
      "cell_type": "code",
      "metadata": {
        "id": "vBCtCSXd6KPl"
      },
      "source": [
        "# Исправить, когда два последовательных element - тексты\n",
        "def process_comment(comment):\n",
        "    comment_list = comment[\"comment\"].split('<br>')\n",
        "    Info = namedtuple('Info' , 'date num parents text')\n",
        "    pairs = []\n",
        "    reference_ids = []\n",
        "    for i, element in enumerate(comment_list):\n",
        "        text = []\n",
        "        if element:\n",
        "            if element.startswith('<a'):\n",
        "                ref = re.findall(r'>>>(\\d+)', element)\n",
        "                reference_ids.append(ref[0])\n",
        "            elif element[0].isalnum():\n",
        "                text = element\n",
        "                if not reference_ids:\n",
        "                    reference_ids.append('0')\n",
        "                pairs.append(Info(comment[\"date\"], str(comment[\"num\"]), reference_ids, text))\n",
        "                reference_ids = []\n",
        "    return pairs"
      ],
      "execution_count": 141,
      "outputs": []
    },
    {
      "cell_type": "code",
      "metadata": {
        "id": "mHlOeFxOyRxR"
      },
      "source": [
        "example_post = data['threads'][0]['posts'][2]"
      ],
      "execution_count": 142,
      "outputs": []
    },
    {
      "cell_type": "code",
      "metadata": {
        "colab": {
          "base_uri": "https://localhost:8080/"
        },
        "id": "Hr-uLkrjHMRE",
        "outputId": "47d0540c-7a17-4018-b344-c022cde7f888"
      },
      "source": [
        "example_post"
      ],
      "execution_count": 143,
      "outputs": [
        {
          "output_type": "execute_result",
          "data": {
            "text/plain": [
              "{'banned': 0,\n",
              " 'closed': 0,\n",
              " 'comment': '<a href=\"/a/res/7082301.html#7237489\" class=\"post-reply-link\" data-thread=\"7082301\" data-num=\"7237489\">>>7237489</a><br><a href=\"/a/res/7082301.html#7237490\" class=\"post-reply-link\" data-thread=\"7082301\" data-num=\"7237490\">>>7237490</a><br>Да, где школьниц как кукл ломают и живьём жрут.<br><br><a href=\"/a/res/7082301.html#7237508\" class=\"post-reply-link\" data-thread=\"7082301\" data-num=\"7237508\">>>7237508</a><br>Пока что лучшее что я видел из подобных Strike blood. Ещё Шану напоминает, история в стиле &quot;как папа познакомился с мамой&quot;. Очень плавное повествование, но акшон в каждой серии. Если тебе SB зашёл - качай прямо сейчас и смотри без раздумий.',\n",
              " 'date': '04/05/21 Втр 15:54:37',\n",
              " 'email': '',\n",
              " 'endless': 0,\n",
              " 'files': [{'displayname': '[Anime365] Sous[...].jpg',\n",
              "   'fullname': '[Anime365] Sousei no Onmyouji - 09 (t2397265).mp4snapshot19[...].jpg',\n",
              "   'height': 895,\n",
              "   'md5': '046ce1dead6d65dbf3628f889ac167f1',\n",
              "   'name': '16201328783340.jpg',\n",
              "   'nsfw': 0,\n",
              "   'path': '/a/src/7082301/16201328783340.jpg',\n",
              "   'size': 121,\n",
              "   'thumbnail': '/a/thumb/7082301/16201328783340s.jpg',\n",
              "   'tn_height': 112,\n",
              "   'tn_width': 200,\n",
              "   'type': 1,\n",
              "   'width': 1591}],\n",
              " 'lasthit': 1620237541,\n",
              " 'name': 'Аноним',\n",
              " 'num': 7237575,\n",
              " 'number': 3,\n",
              " 'op': 0,\n",
              " 'parent': '7082301',\n",
              " 'sticky': 33,\n",
              " 'subject': '',\n",
              " 'timestamp': 1620132877,\n",
              " 'trip': ''}"
            ]
          },
          "metadata": {
            "tags": []
          },
          "execution_count": 143
        }
      ]
    },
    {
      "cell_type": "code",
      "metadata": {
        "colab": {
          "base_uri": "https://localhost:8080/",
          "height": 86
        },
        "id": "6ZxY_bAUFMdV",
        "outputId": "c455c252-9a26-4bca-e322-d2409701d93f"
      },
      "source": [
        "example_post[\"comment\"]"
      ],
      "execution_count": 145,
      "outputs": [
        {
          "output_type": "execute_result",
          "data": {
            "application/vnd.google.colaboratory.intrinsic+json": {
              "type": "string"
            },
            "text/plain": [
              "'<a href=\"/a/res/7082301.html#7237489\" class=\"post-reply-link\" data-thread=\"7082301\" data-num=\"7237489\">>>7237489</a><br><a href=\"/a/res/7082301.html#7237490\" class=\"post-reply-link\" data-thread=\"7082301\" data-num=\"7237490\">>>7237490</a><br>Да, где школьниц как кукл ломают и живьём жрут.<br><br><a href=\"/a/res/7082301.html#7237508\" class=\"post-reply-link\" data-thread=\"7082301\" data-num=\"7237508\">>>7237508</a><br>Пока что лучшее что я видел из подобных Strike blood. Ещё Шану напоминает, история в стиле &quot;как папа познакомился с мамой&quot;. Очень плавное повествование, но акшон в каждой серии. Если тебе SB зашёл - качай прямо сейчас и смотри без раздумий.'"
            ]
          },
          "metadata": {
            "tags": []
          },
          "execution_count": 145
        }
      ]
    },
    {
      "cell_type": "code",
      "metadata": {
        "colab": {
          "base_uri": "https://localhost:8080/"
        },
        "id": "2-L_xJAe_yrh",
        "outputId": "f9068c64-f0c4-42a3-b44e-29d60713ebe5"
      },
      "source": [
        "process_comment(example_post)"
      ],
      "execution_count": 134,
      "outputs": [
        {
          "output_type": "execute_result",
          "data": {
            "text/plain": [
              "[Info(date='26/04/21 Пнд 17:54:55', num='1188483', parents=['1188466'], text='Очевидно что откуда то из-за бугра, вопрос в цене. Если оптом брать - то в принципе косарь за месячный курс 1мг&#47;день.'),\n",
              " Info(date='26/04/21 Пнд 17:54:55', num='1188483', parents=['0'], text='Мож скинуться кто хочет? ')]"
            ]
          },
          "metadata": {
            "tags": []
          },
          "execution_count": 134
        }
      ]
    },
    {
      "cell_type": "code",
      "metadata": {
        "colab": {
          "base_uri": "https://localhost:8080/",
          "height": 163
        },
        "id": "ZLBy62M091jD",
        "outputId": "776417f1-db53-420e-a05f-6773895c1388"
      },
      "source": [
        "example_post.split('<br>'"
      ],
      "execution_count": 65,
      "outputs": [
        {
          "output_type": "error",
          "ename": "IndexError",
          "evalue": "ignored",
          "traceback": [
            "\u001b[0;31m---------------------------------------------------------------------------\u001b[0m",
            "\u001b[0;31mIndexError\u001b[0m                                Traceback (most recent call last)",
            "\u001b[0;32m<ipython-input-65-b2b7a6399f05>\u001b[0m in \u001b[0;36m<module>\u001b[0;34m()\u001b[0m\n\u001b[0;32m----> 1\u001b[0;31m \u001b[0mexample_post\u001b[0m\u001b[0;34m.\u001b[0m\u001b[0msplit\u001b[0m\u001b[0;34m(\u001b[0m\u001b[0;34m'<br>'\u001b[0m\u001b[0;34m)\u001b[0m\u001b[0;34m[\u001b[0m\u001b[0;36m3\u001b[0m\u001b[0;34m]\u001b[0m\u001b[0;34m[\u001b[0m\u001b[0;36m0\u001b[0m\u001b[0;34m]\u001b[0m\u001b[0;34m\u001b[0m\u001b[0;34m\u001b[0m\u001b[0m\n\u001b[0m",
            "\u001b[0;31mIndexError\u001b[0m: string index out of range"
          ]
        }
      ]
    },
    {
      "cell_type": "code",
      "metadata": {
        "colab": {
          "base_uri": "https://localhost:8080/"
        },
        "id": "cUhJYqUI8PID",
        "outputId": "03158824-0286-46e0-cc35-84ff99e63edf"
      },
      "source": [
        "if example_post.split('<br>')[2]:\n",
        "    print(\"h\")"
      ],
      "execution_count": 64,
      "outputs": [
        {
          "output_type": "stream",
          "text": [
            "h\n"
          ],
          "name": "stdout"
        }
      ]
    },
    {
      "cell_type": "code",
      "metadata": {
        "colab": {
          "base_uri": "https://localhost:8080/"
        },
        "id": "AwyKobZU3s3U",
        "outputId": "151a0522-35ab-4da8-ad94-06fdf5d449ac"
      },
      "source": [
        "re.findall(r'>>>(\\d+)', example_post)"
      ],
      "execution_count": 40,
      "outputs": [
        {
          "output_type": "execute_result",
          "data": {
            "text/plain": [
              "['7237489', '7237490', '7237508']"
            ]
          },
          "metadata": {
            "tags": []
          },
          "execution_count": 40
        }
      ]
    },
    {
      "cell_type": "code",
      "metadata": {
        "id": "pGJ2j-tJ5DF7"
      },
      "source": [
        ""
      ],
      "execution_count": null,
      "outputs": []
    },
    {
      "cell_type": "code",
      "metadata": {
        "colab": {
          "base_uri": "https://localhost:8080/"
        },
        "id": "qnbsT5Ni4h5l",
        "outputId": "1ac8d095-3026-4cd2-94b9-8f423d9f6b2f"
      },
      "source": [
        "re.findall(r'(?<=<br>).+(?=<br>)', example_post)"
      ],
      "execution_count": 48,
      "outputs": [
        {
          "output_type": "execute_result",
          "data": {
            "text/plain": [
              "['<a href=\"/a/res/7082301.html#7237490\" class=\"post-reply-link\" data-thread=\"7082301\" data-num=\"7237490\">>>7237490</a><br>Да, где школьниц как кукл ломают и живьём жрут.<br><br><a href=\"/a/res/7082301.html#7237508\" class=\"post-reply-link\" data-thread=\"7082301\" data-num=\"7237508\">>>7237508</a>']"
            ]
          },
          "metadata": {
            "tags": []
          },
          "execution_count": 48
        }
      ]
    },
    {
      "cell_type": "code",
      "metadata": {
        "id": "qPRfTYvueFYq"
      },
      "source": [
        "def main():\n",
        "    thread_url = input(\"Thread link: \")\n",
        "    s = lib.urlopen(GetThreadJson(thread_url))\n",
        "    with s:\n",
        "        data = json.loads(s.read().decode())\n",
        "        threads_array = data['threads']\n",
        "        for posts_array in threads_array:\n",
        "            posts = posts_array['posts']\n",
        "            for post in posts:\n",
        "                \n",
        "                files = files_array['files']\n",
        "                for file_obj in files:\n",
        "                    path = file_obj['path']\n",
        "                    name = file_obj['name']\n",
        "                    download(\"http://2ch.hk\" + path, name)\n",
        "                    print(path)\n",
        "\n",
        "    print(\"success\")"
      ],
      "execution_count": 7,
      "outputs": []
    },
    {
      "cell_type": "code",
      "metadata": {
        "id": "ZigOUNOCv2rh"
      },
      "source": [
        "def download(url, output_name):\n",
        "    content = requests.get(url).content\n",
        "    f = open(\"parsed/\" + str(output_name), \"wb\")\n",
        "    f.write(content)\n",
        "    f.close()"
      ],
      "execution_count": 8,
      "outputs": []
    },
    {
      "cell_type": "code",
      "metadata": {
        "id": "zgiPh1LMv5SZ"
      },
      "source": [
        "def GetThreadJson(url):\n",
        "    convertedUrl = \"\"\n",
        "    if not url.startswith(\"https://\"):\n",
        "        if url.startswith(\"http://\"):\n",
        "            convertedUrl = url.replace(\"http://\", \"https://\")\n",
        "        else:\n",
        "            convertedUrl = url.replace(\"2ch.hk/\", \"https://2ch.hk/\")\n",
        "    else:\n",
        "        convertedUrl = url\n",
        "\n",
        "    if not url.endswith(\".html\"):\n",
        "        if url.endswith(\".json\"):\n",
        "            return convertedUrl\n",
        "        else:\n",
        "            return str(convertedUrl + \".json\")\n",
        "    else:\n",
        "        return convertedUrl.replace(\".html\", \".json\")"
      ],
      "execution_count": 9,
      "outputs": []
    },
    {
      "cell_type": "code",
      "metadata": {
        "colab": {
          "base_uri": "https://localhost:8080/",
          "height": 476
        },
        "id": "jJAsxK3lv9aw",
        "outputId": "d095169b-6aaf-44ff-cea6-4fe680ffc034"
      },
      "source": [
        "if __name__ == \"__main__\":\n",
        "    if not os.path.exists(\"parsed\"):\n",
        "        os.makedirs(\"parsed\")\n",
        "    \n",
        "    main()"
      ],
      "execution_count": 10,
      "outputs": [
        {
          "output_type": "stream",
          "text": [
            "Thread link: https://2ch.hk/a/res/7082301.html\n",
            "/a/src/7082301/16093369516980.jpg\n",
            "/a/src/7082301/16201328783340.jpg\n",
            "/a/src/7082301/16201343796780.png\n",
            "/a/src/7082301/16201346198820.jpg\n",
            "/a/src/7082301/16201346461920.jpg\n",
            "/a/src/7082301/16201346461931.jpg\n",
            "/a/src/7082301/16201346461932.jpg\n"
          ],
          "name": "stdout"
        },
        {
          "output_type": "error",
          "ename": "KeyboardInterrupt",
          "evalue": "ignored",
          "traceback": [
            "\u001b[0;31m---------------------------------------------------------------------------\u001b[0m",
            "\u001b[0;31mKeyboardInterrupt\u001b[0m                         Traceback (most recent call last)",
            "\u001b[0;32m<ipython-input-10-d89bd00d0d65>\u001b[0m in \u001b[0;36m<module>\u001b[0;34m()\u001b[0m\n\u001b[1;32m      3\u001b[0m         \u001b[0mos\u001b[0m\u001b[0;34m.\u001b[0m\u001b[0mmakedirs\u001b[0m\u001b[0;34m(\u001b[0m\u001b[0;34m\"parsed\"\u001b[0m\u001b[0;34m)\u001b[0m\u001b[0;34m\u001b[0m\u001b[0;34m\u001b[0m\u001b[0m\n\u001b[1;32m      4\u001b[0m \u001b[0;34m\u001b[0m\u001b[0m\n\u001b[0;32m----> 5\u001b[0;31m     \u001b[0mmain\u001b[0m\u001b[0;34m(\u001b[0m\u001b[0;34m)\u001b[0m\u001b[0;34m\u001b[0m\u001b[0;34m\u001b[0m\u001b[0m\n\u001b[0m",
            "\u001b[0;32m<ipython-input-7-f00a568a0b99>\u001b[0m in \u001b[0;36mmain\u001b[0;34m()\u001b[0m\n\u001b[1;32m     12\u001b[0m                     \u001b[0mpath\u001b[0m \u001b[0;34m=\u001b[0m \u001b[0mfile_obj\u001b[0m\u001b[0;34m[\u001b[0m\u001b[0;34m'path'\u001b[0m\u001b[0;34m]\u001b[0m\u001b[0;34m\u001b[0m\u001b[0;34m\u001b[0m\u001b[0m\n\u001b[1;32m     13\u001b[0m                     \u001b[0mname\u001b[0m \u001b[0;34m=\u001b[0m \u001b[0mfile_obj\u001b[0m\u001b[0;34m[\u001b[0m\u001b[0;34m'name'\u001b[0m\u001b[0;34m]\u001b[0m\u001b[0;34m\u001b[0m\u001b[0;34m\u001b[0m\u001b[0m\n\u001b[0;32m---> 14\u001b[0;31m                     \u001b[0mdownload\u001b[0m\u001b[0;34m(\u001b[0m\u001b[0;34m\"http://2ch.hk\"\u001b[0m \u001b[0;34m+\u001b[0m \u001b[0mpath\u001b[0m\u001b[0;34m,\u001b[0m \u001b[0mname\u001b[0m\u001b[0;34m)\u001b[0m\u001b[0;34m\u001b[0m\u001b[0;34m\u001b[0m\u001b[0m\n\u001b[0m\u001b[1;32m     15\u001b[0m                     \u001b[0mprint\u001b[0m\u001b[0;34m(\u001b[0m\u001b[0mpath\u001b[0m\u001b[0;34m)\u001b[0m\u001b[0;34m\u001b[0m\u001b[0;34m\u001b[0m\u001b[0m\n\u001b[1;32m     16\u001b[0m \u001b[0;34m\u001b[0m\u001b[0m\n",
            "\u001b[0;32m<ipython-input-8-4fc350a97bac>\u001b[0m in \u001b[0;36mdownload\u001b[0;34m(url, output_name)\u001b[0m\n\u001b[1;32m      1\u001b[0m \u001b[0;32mdef\u001b[0m \u001b[0mdownload\u001b[0m\u001b[0;34m(\u001b[0m\u001b[0murl\u001b[0m\u001b[0;34m,\u001b[0m \u001b[0moutput_name\u001b[0m\u001b[0;34m)\u001b[0m\u001b[0;34m:\u001b[0m\u001b[0;34m\u001b[0m\u001b[0;34m\u001b[0m\u001b[0m\n\u001b[0;32m----> 2\u001b[0;31m     \u001b[0mcontent\u001b[0m \u001b[0;34m=\u001b[0m \u001b[0mrequests\u001b[0m\u001b[0;34m.\u001b[0m\u001b[0mget\u001b[0m\u001b[0;34m(\u001b[0m\u001b[0murl\u001b[0m\u001b[0;34m)\u001b[0m\u001b[0;34m.\u001b[0m\u001b[0mcontent\u001b[0m\u001b[0;34m\u001b[0m\u001b[0;34m\u001b[0m\u001b[0m\n\u001b[0m\u001b[1;32m      3\u001b[0m     \u001b[0mf\u001b[0m \u001b[0;34m=\u001b[0m \u001b[0mopen\u001b[0m\u001b[0;34m(\u001b[0m\u001b[0;34m\"parsed/\"\u001b[0m \u001b[0;34m+\u001b[0m \u001b[0mstr\u001b[0m\u001b[0;34m(\u001b[0m\u001b[0moutput_name\u001b[0m\u001b[0;34m)\u001b[0m\u001b[0;34m,\u001b[0m \u001b[0;34m\"wb\"\u001b[0m\u001b[0;34m)\u001b[0m\u001b[0;34m\u001b[0m\u001b[0;34m\u001b[0m\u001b[0m\n\u001b[1;32m      4\u001b[0m     \u001b[0mf\u001b[0m\u001b[0;34m.\u001b[0m\u001b[0mwrite\u001b[0m\u001b[0;34m(\u001b[0m\u001b[0mcontent\u001b[0m\u001b[0;34m)\u001b[0m\u001b[0;34m\u001b[0m\u001b[0;34m\u001b[0m\u001b[0m\n\u001b[1;32m      5\u001b[0m     \u001b[0mf\u001b[0m\u001b[0;34m.\u001b[0m\u001b[0mclose\u001b[0m\u001b[0;34m(\u001b[0m\u001b[0;34m)\u001b[0m\u001b[0;34m\u001b[0m\u001b[0;34m\u001b[0m\u001b[0m\n",
            "\u001b[0;32m/usr/local/lib/python3.7/dist-packages/requests/api.py\u001b[0m in \u001b[0;36mget\u001b[0;34m(url, params, **kwargs)\u001b[0m\n\u001b[1;32m     74\u001b[0m \u001b[0;34m\u001b[0m\u001b[0m\n\u001b[1;32m     75\u001b[0m     \u001b[0mkwargs\u001b[0m\u001b[0;34m.\u001b[0m\u001b[0msetdefault\u001b[0m\u001b[0;34m(\u001b[0m\u001b[0;34m'allow_redirects'\u001b[0m\u001b[0;34m,\u001b[0m \u001b[0;32mTrue\u001b[0m\u001b[0;34m)\u001b[0m\u001b[0;34m\u001b[0m\u001b[0;34m\u001b[0m\u001b[0m\n\u001b[0;32m---> 76\u001b[0;31m     \u001b[0;32mreturn\u001b[0m \u001b[0mrequest\u001b[0m\u001b[0;34m(\u001b[0m\u001b[0;34m'get'\u001b[0m\u001b[0;34m,\u001b[0m \u001b[0murl\u001b[0m\u001b[0;34m,\u001b[0m \u001b[0mparams\u001b[0m\u001b[0;34m=\u001b[0m\u001b[0mparams\u001b[0m\u001b[0;34m,\u001b[0m \u001b[0;34m**\u001b[0m\u001b[0mkwargs\u001b[0m\u001b[0;34m)\u001b[0m\u001b[0;34m\u001b[0m\u001b[0;34m\u001b[0m\u001b[0m\n\u001b[0m\u001b[1;32m     77\u001b[0m \u001b[0;34m\u001b[0m\u001b[0m\n\u001b[1;32m     78\u001b[0m \u001b[0;34m\u001b[0m\u001b[0m\n",
            "\u001b[0;32m/usr/local/lib/python3.7/dist-packages/requests/api.py\u001b[0m in \u001b[0;36mrequest\u001b[0;34m(method, url, **kwargs)\u001b[0m\n\u001b[1;32m     59\u001b[0m     \u001b[0;31m# cases, and look like a memory leak in others.\u001b[0m\u001b[0;34m\u001b[0m\u001b[0;34m\u001b[0m\u001b[0;34m\u001b[0m\u001b[0m\n\u001b[1;32m     60\u001b[0m     \u001b[0;32mwith\u001b[0m \u001b[0msessions\u001b[0m\u001b[0;34m.\u001b[0m\u001b[0mSession\u001b[0m\u001b[0;34m(\u001b[0m\u001b[0;34m)\u001b[0m \u001b[0;32mas\u001b[0m \u001b[0msession\u001b[0m\u001b[0;34m:\u001b[0m\u001b[0;34m\u001b[0m\u001b[0;34m\u001b[0m\u001b[0m\n\u001b[0;32m---> 61\u001b[0;31m         \u001b[0;32mreturn\u001b[0m \u001b[0msession\u001b[0m\u001b[0;34m.\u001b[0m\u001b[0mrequest\u001b[0m\u001b[0;34m(\u001b[0m\u001b[0mmethod\u001b[0m\u001b[0;34m=\u001b[0m\u001b[0mmethod\u001b[0m\u001b[0;34m,\u001b[0m \u001b[0murl\u001b[0m\u001b[0;34m=\u001b[0m\u001b[0murl\u001b[0m\u001b[0;34m,\u001b[0m \u001b[0;34m**\u001b[0m\u001b[0mkwargs\u001b[0m\u001b[0;34m)\u001b[0m\u001b[0;34m\u001b[0m\u001b[0;34m\u001b[0m\u001b[0m\n\u001b[0m\u001b[1;32m     62\u001b[0m \u001b[0;34m\u001b[0m\u001b[0m\n\u001b[1;32m     63\u001b[0m \u001b[0;34m\u001b[0m\u001b[0m\n",
            "\u001b[0;32m/usr/local/lib/python3.7/dist-packages/requests/sessions.py\u001b[0m in \u001b[0;36mrequest\u001b[0;34m(self, method, url, params, data, headers, cookies, files, auth, timeout, allow_redirects, proxies, hooks, stream, verify, cert, json)\u001b[0m\n\u001b[1;32m    528\u001b[0m         }\n\u001b[1;32m    529\u001b[0m         \u001b[0msend_kwargs\u001b[0m\u001b[0;34m.\u001b[0m\u001b[0mupdate\u001b[0m\u001b[0;34m(\u001b[0m\u001b[0msettings\u001b[0m\u001b[0;34m)\u001b[0m\u001b[0;34m\u001b[0m\u001b[0;34m\u001b[0m\u001b[0m\n\u001b[0;32m--> 530\u001b[0;31m         \u001b[0mresp\u001b[0m \u001b[0;34m=\u001b[0m \u001b[0mself\u001b[0m\u001b[0;34m.\u001b[0m\u001b[0msend\u001b[0m\u001b[0;34m(\u001b[0m\u001b[0mprep\u001b[0m\u001b[0;34m,\u001b[0m \u001b[0;34m**\u001b[0m\u001b[0msend_kwargs\u001b[0m\u001b[0;34m)\u001b[0m\u001b[0;34m\u001b[0m\u001b[0;34m\u001b[0m\u001b[0m\n\u001b[0m\u001b[1;32m    531\u001b[0m \u001b[0;34m\u001b[0m\u001b[0m\n\u001b[1;32m    532\u001b[0m         \u001b[0;32mreturn\u001b[0m \u001b[0mresp\u001b[0m\u001b[0;34m\u001b[0m\u001b[0;34m\u001b[0m\u001b[0m\n",
            "\u001b[0;32m/usr/local/lib/python3.7/dist-packages/requests/sessions.py\u001b[0m in \u001b[0;36msend\u001b[0;34m(self, request, **kwargs)\u001b[0m\n\u001b[1;32m    663\u001b[0m \u001b[0;34m\u001b[0m\u001b[0m\n\u001b[1;32m    664\u001b[0m         \u001b[0;31m# Resolve redirects if allowed.\u001b[0m\u001b[0;34m\u001b[0m\u001b[0;34m\u001b[0m\u001b[0;34m\u001b[0m\u001b[0m\n\u001b[0;32m--> 665\u001b[0;31m         \u001b[0mhistory\u001b[0m \u001b[0;34m=\u001b[0m \u001b[0;34m[\u001b[0m\u001b[0mresp\u001b[0m \u001b[0;32mfor\u001b[0m \u001b[0mresp\u001b[0m \u001b[0;32min\u001b[0m \u001b[0mgen\u001b[0m\u001b[0;34m]\u001b[0m \u001b[0;32mif\u001b[0m \u001b[0mallow_redirects\u001b[0m \u001b[0;32melse\u001b[0m \u001b[0;34m[\u001b[0m\u001b[0;34m]\u001b[0m\u001b[0;34m\u001b[0m\u001b[0;34m\u001b[0m\u001b[0m\n\u001b[0m\u001b[1;32m    666\u001b[0m \u001b[0;34m\u001b[0m\u001b[0m\n\u001b[1;32m    667\u001b[0m         \u001b[0;31m# Shuffle things around if there's history.\u001b[0m\u001b[0;34m\u001b[0m\u001b[0;34m\u001b[0m\u001b[0;34m\u001b[0m\u001b[0m\n",
            "\u001b[0;32m/usr/local/lib/python3.7/dist-packages/requests/sessions.py\u001b[0m in \u001b[0;36m<listcomp>\u001b[0;34m(.0)\u001b[0m\n\u001b[1;32m    663\u001b[0m \u001b[0;34m\u001b[0m\u001b[0m\n\u001b[1;32m    664\u001b[0m         \u001b[0;31m# Resolve redirects if allowed.\u001b[0m\u001b[0;34m\u001b[0m\u001b[0;34m\u001b[0m\u001b[0;34m\u001b[0m\u001b[0m\n\u001b[0;32m--> 665\u001b[0;31m         \u001b[0mhistory\u001b[0m \u001b[0;34m=\u001b[0m \u001b[0;34m[\u001b[0m\u001b[0mresp\u001b[0m \u001b[0;32mfor\u001b[0m \u001b[0mresp\u001b[0m \u001b[0;32min\u001b[0m \u001b[0mgen\u001b[0m\u001b[0;34m]\u001b[0m \u001b[0;32mif\u001b[0m \u001b[0mallow_redirects\u001b[0m \u001b[0;32melse\u001b[0m \u001b[0;34m[\u001b[0m\u001b[0;34m]\u001b[0m\u001b[0;34m\u001b[0m\u001b[0;34m\u001b[0m\u001b[0m\n\u001b[0m\u001b[1;32m    666\u001b[0m \u001b[0;34m\u001b[0m\u001b[0m\n\u001b[1;32m    667\u001b[0m         \u001b[0;31m# Shuffle things around if there's history.\u001b[0m\u001b[0;34m\u001b[0m\u001b[0;34m\u001b[0m\u001b[0;34m\u001b[0m\u001b[0m\n",
            "\u001b[0;32m/usr/local/lib/python3.7/dist-packages/requests/sessions.py\u001b[0m in \u001b[0;36mresolve_redirects\u001b[0;34m(self, resp, req, stream, timeout, verify, cert, proxies, yield_requests, **adapter_kwargs)\u001b[0m\n\u001b[1;32m    243\u001b[0m                     \u001b[0mproxies\u001b[0m\u001b[0;34m=\u001b[0m\u001b[0mproxies\u001b[0m\u001b[0;34m,\u001b[0m\u001b[0;34m\u001b[0m\u001b[0;34m\u001b[0m\u001b[0m\n\u001b[1;32m    244\u001b[0m                     \u001b[0mallow_redirects\u001b[0m\u001b[0;34m=\u001b[0m\u001b[0;32mFalse\u001b[0m\u001b[0;34m,\u001b[0m\u001b[0;34m\u001b[0m\u001b[0;34m\u001b[0m\u001b[0m\n\u001b[0;32m--> 245\u001b[0;31m                     \u001b[0;34m**\u001b[0m\u001b[0madapter_kwargs\u001b[0m\u001b[0;34m\u001b[0m\u001b[0;34m\u001b[0m\u001b[0m\n\u001b[0m\u001b[1;32m    246\u001b[0m                 )\n\u001b[1;32m    247\u001b[0m \u001b[0;34m\u001b[0m\u001b[0m\n",
            "\u001b[0;32m/usr/local/lib/python3.7/dist-packages/requests/sessions.py\u001b[0m in \u001b[0;36msend\u001b[0;34m(self, request, **kwargs)\u001b[0m\n\u001b[1;32m    641\u001b[0m \u001b[0;34m\u001b[0m\u001b[0m\n\u001b[1;32m    642\u001b[0m         \u001b[0;31m# Send the request\u001b[0m\u001b[0;34m\u001b[0m\u001b[0;34m\u001b[0m\u001b[0;34m\u001b[0m\u001b[0m\n\u001b[0;32m--> 643\u001b[0;31m         \u001b[0mr\u001b[0m \u001b[0;34m=\u001b[0m \u001b[0madapter\u001b[0m\u001b[0;34m.\u001b[0m\u001b[0msend\u001b[0m\u001b[0;34m(\u001b[0m\u001b[0mrequest\u001b[0m\u001b[0;34m,\u001b[0m \u001b[0;34m**\u001b[0m\u001b[0mkwargs\u001b[0m\u001b[0;34m)\u001b[0m\u001b[0;34m\u001b[0m\u001b[0;34m\u001b[0m\u001b[0m\n\u001b[0m\u001b[1;32m    644\u001b[0m \u001b[0;34m\u001b[0m\u001b[0m\n\u001b[1;32m    645\u001b[0m         \u001b[0;31m# Total elapsed time of the request (approximately)\u001b[0m\u001b[0;34m\u001b[0m\u001b[0;34m\u001b[0m\u001b[0;34m\u001b[0m\u001b[0m\n",
            "\u001b[0;32m/usr/local/lib/python3.7/dist-packages/requests/adapters.py\u001b[0m in \u001b[0;36msend\u001b[0;34m(self, request, stream, timeout, verify, cert, proxies)\u001b[0m\n\u001b[1;32m    447\u001b[0m                     \u001b[0mdecode_content\u001b[0m\u001b[0;34m=\u001b[0m\u001b[0;32mFalse\u001b[0m\u001b[0;34m,\u001b[0m\u001b[0;34m\u001b[0m\u001b[0;34m\u001b[0m\u001b[0m\n\u001b[1;32m    448\u001b[0m                     \u001b[0mretries\u001b[0m\u001b[0;34m=\u001b[0m\u001b[0mself\u001b[0m\u001b[0;34m.\u001b[0m\u001b[0mmax_retries\u001b[0m\u001b[0;34m,\u001b[0m\u001b[0;34m\u001b[0m\u001b[0;34m\u001b[0m\u001b[0m\n\u001b[0;32m--> 449\u001b[0;31m                     \u001b[0mtimeout\u001b[0m\u001b[0;34m=\u001b[0m\u001b[0mtimeout\u001b[0m\u001b[0;34m\u001b[0m\u001b[0;34m\u001b[0m\u001b[0m\n\u001b[0m\u001b[1;32m    450\u001b[0m                 )\n\u001b[1;32m    451\u001b[0m \u001b[0;34m\u001b[0m\u001b[0m\n",
            "\u001b[0;32m/usr/local/lib/python3.7/dist-packages/urllib3/connectionpool.py\u001b[0m in \u001b[0;36murlopen\u001b[0;34m(self, method, url, body, headers, retries, redirect, assert_same_host, timeout, pool_timeout, release_conn, chunked, body_pos, **response_kw)\u001b[0m\n\u001b[1;32m    598\u001b[0m                                                   \u001b[0mtimeout\u001b[0m\u001b[0;34m=\u001b[0m\u001b[0mtimeout_obj\u001b[0m\u001b[0;34m,\u001b[0m\u001b[0;34m\u001b[0m\u001b[0;34m\u001b[0m\u001b[0m\n\u001b[1;32m    599\u001b[0m                                                   \u001b[0mbody\u001b[0m\u001b[0;34m=\u001b[0m\u001b[0mbody\u001b[0m\u001b[0;34m,\u001b[0m \u001b[0mheaders\u001b[0m\u001b[0;34m=\u001b[0m\u001b[0mheaders\u001b[0m\u001b[0;34m,\u001b[0m\u001b[0;34m\u001b[0m\u001b[0;34m\u001b[0m\u001b[0m\n\u001b[0;32m--> 600\u001b[0;31m                                                   chunked=chunked)\n\u001b[0m\u001b[1;32m    601\u001b[0m \u001b[0;34m\u001b[0m\u001b[0m\n\u001b[1;32m    602\u001b[0m             \u001b[0;31m# If we're going to release the connection in ``finally:``, then\u001b[0m\u001b[0;34m\u001b[0m\u001b[0;34m\u001b[0m\u001b[0;34m\u001b[0m\u001b[0m\n",
            "\u001b[0;32m/usr/local/lib/python3.7/dist-packages/urllib3/connectionpool.py\u001b[0m in \u001b[0;36m_make_request\u001b[0;34m(self, conn, method, url, timeout, chunked, **httplib_request_kw)\u001b[0m\n\u001b[1;32m    341\u001b[0m         \u001b[0;31m# Trigger any extra validation we need to do.\u001b[0m\u001b[0;34m\u001b[0m\u001b[0;34m\u001b[0m\u001b[0;34m\u001b[0m\u001b[0m\n\u001b[1;32m    342\u001b[0m         \u001b[0;32mtry\u001b[0m\u001b[0;34m:\u001b[0m\u001b[0;34m\u001b[0m\u001b[0;34m\u001b[0m\u001b[0m\n\u001b[0;32m--> 343\u001b[0;31m             \u001b[0mself\u001b[0m\u001b[0;34m.\u001b[0m\u001b[0m_validate_conn\u001b[0m\u001b[0;34m(\u001b[0m\u001b[0mconn\u001b[0m\u001b[0;34m)\u001b[0m\u001b[0;34m\u001b[0m\u001b[0;34m\u001b[0m\u001b[0m\n\u001b[0m\u001b[1;32m    344\u001b[0m         \u001b[0;32mexcept\u001b[0m \u001b[0;34m(\u001b[0m\u001b[0mSocketTimeout\u001b[0m\u001b[0;34m,\u001b[0m \u001b[0mBaseSSLError\u001b[0m\u001b[0;34m)\u001b[0m \u001b[0;32mas\u001b[0m \u001b[0me\u001b[0m\u001b[0;34m:\u001b[0m\u001b[0;34m\u001b[0m\u001b[0;34m\u001b[0m\u001b[0m\n\u001b[1;32m    345\u001b[0m             \u001b[0;31m# Py2 raises this as a BaseSSLError, Py3 raises it as socket timeout.\u001b[0m\u001b[0;34m\u001b[0m\u001b[0;34m\u001b[0m\u001b[0;34m\u001b[0m\u001b[0m\n",
            "\u001b[0;32m/usr/local/lib/python3.7/dist-packages/urllib3/connectionpool.py\u001b[0m in \u001b[0;36m_validate_conn\u001b[0;34m(self, conn)\u001b[0m\n\u001b[1;32m    837\u001b[0m         \u001b[0;31m# Force connect early to allow us to validate the connection.\u001b[0m\u001b[0;34m\u001b[0m\u001b[0;34m\u001b[0m\u001b[0;34m\u001b[0m\u001b[0m\n\u001b[1;32m    838\u001b[0m         \u001b[0;32mif\u001b[0m \u001b[0;32mnot\u001b[0m \u001b[0mgetattr\u001b[0m\u001b[0;34m(\u001b[0m\u001b[0mconn\u001b[0m\u001b[0;34m,\u001b[0m \u001b[0;34m'sock'\u001b[0m\u001b[0;34m,\u001b[0m \u001b[0;32mNone\u001b[0m\u001b[0;34m)\u001b[0m\u001b[0;34m:\u001b[0m  \u001b[0;31m# AppEngine might not have  `.sock`\u001b[0m\u001b[0;34m\u001b[0m\u001b[0;34m\u001b[0m\u001b[0m\n\u001b[0;32m--> 839\u001b[0;31m             \u001b[0mconn\u001b[0m\u001b[0;34m.\u001b[0m\u001b[0mconnect\u001b[0m\u001b[0;34m(\u001b[0m\u001b[0;34m)\u001b[0m\u001b[0;34m\u001b[0m\u001b[0;34m\u001b[0m\u001b[0m\n\u001b[0m\u001b[1;32m    840\u001b[0m \u001b[0;34m\u001b[0m\u001b[0m\n\u001b[1;32m    841\u001b[0m         \u001b[0;32mif\u001b[0m \u001b[0;32mnot\u001b[0m \u001b[0mconn\u001b[0m\u001b[0;34m.\u001b[0m\u001b[0mis_verified\u001b[0m\u001b[0;34m:\u001b[0m\u001b[0;34m\u001b[0m\u001b[0;34m\u001b[0m\u001b[0m\n",
            "\u001b[0;32m/usr/local/lib/python3.7/dist-packages/urllib3/connection.py\u001b[0m in \u001b[0;36mconnect\u001b[0;34m(self)\u001b[0m\n\u001b[1;32m    342\u001b[0m             \u001b[0mca_cert_dir\u001b[0m\u001b[0;34m=\u001b[0m\u001b[0mself\u001b[0m\u001b[0;34m.\u001b[0m\u001b[0mca_cert_dir\u001b[0m\u001b[0;34m,\u001b[0m\u001b[0;34m\u001b[0m\u001b[0;34m\u001b[0m\u001b[0m\n\u001b[1;32m    343\u001b[0m             \u001b[0mserver_hostname\u001b[0m\u001b[0;34m=\u001b[0m\u001b[0mserver_hostname\u001b[0m\u001b[0;34m,\u001b[0m\u001b[0;34m\u001b[0m\u001b[0;34m\u001b[0m\u001b[0m\n\u001b[0;32m--> 344\u001b[0;31m             ssl_context=context)\n\u001b[0m\u001b[1;32m    345\u001b[0m \u001b[0;34m\u001b[0m\u001b[0m\n\u001b[1;32m    346\u001b[0m         \u001b[0;32mif\u001b[0m \u001b[0mself\u001b[0m\u001b[0;34m.\u001b[0m\u001b[0massert_fingerprint\u001b[0m\u001b[0;34m:\u001b[0m\u001b[0;34m\u001b[0m\u001b[0;34m\u001b[0m\u001b[0m\n",
            "\u001b[0;32m/usr/local/lib/python3.7/dist-packages/urllib3/util/ssl_.py\u001b[0m in \u001b[0;36mssl_wrap_socket\u001b[0;34m(sock, keyfile, certfile, cert_reqs, ca_certs, server_hostname, ssl_version, ciphers, ssl_context, ca_cert_dir)\u001b[0m\n\u001b[1;32m    343\u001b[0m             or IS_SECURETRANSPORT):\n\u001b[1;32m    344\u001b[0m         \u001b[0;32mif\u001b[0m \u001b[0mHAS_SNI\u001b[0m \u001b[0;32mand\u001b[0m \u001b[0mserver_hostname\u001b[0m \u001b[0;32mis\u001b[0m \u001b[0;32mnot\u001b[0m \u001b[0;32mNone\u001b[0m\u001b[0;34m:\u001b[0m\u001b[0;34m\u001b[0m\u001b[0;34m\u001b[0m\u001b[0m\n\u001b[0;32m--> 345\u001b[0;31m             \u001b[0;32mreturn\u001b[0m \u001b[0mcontext\u001b[0m\u001b[0;34m.\u001b[0m\u001b[0mwrap_socket\u001b[0m\u001b[0;34m(\u001b[0m\u001b[0msock\u001b[0m\u001b[0;34m,\u001b[0m \u001b[0mserver_hostname\u001b[0m\u001b[0;34m=\u001b[0m\u001b[0mserver_hostname\u001b[0m\u001b[0;34m)\u001b[0m\u001b[0;34m\u001b[0m\u001b[0;34m\u001b[0m\u001b[0m\n\u001b[0m\u001b[1;32m    346\u001b[0m \u001b[0;34m\u001b[0m\u001b[0m\n\u001b[1;32m    347\u001b[0m         warnings.warn(\n",
            "\u001b[0;32m/usr/lib/python3.7/ssl.py\u001b[0m in \u001b[0;36mwrap_socket\u001b[0;34m(self, sock, server_side, do_handshake_on_connect, suppress_ragged_eofs, server_hostname, session)\u001b[0m\n\u001b[1;32m    421\u001b[0m             \u001b[0mserver_hostname\u001b[0m\u001b[0;34m=\u001b[0m\u001b[0mserver_hostname\u001b[0m\u001b[0;34m,\u001b[0m\u001b[0;34m\u001b[0m\u001b[0;34m\u001b[0m\u001b[0m\n\u001b[1;32m    422\u001b[0m             \u001b[0mcontext\u001b[0m\u001b[0;34m=\u001b[0m\u001b[0mself\u001b[0m\u001b[0;34m,\u001b[0m\u001b[0;34m\u001b[0m\u001b[0;34m\u001b[0m\u001b[0m\n\u001b[0;32m--> 423\u001b[0;31m             \u001b[0msession\u001b[0m\u001b[0;34m=\u001b[0m\u001b[0msession\u001b[0m\u001b[0;34m\u001b[0m\u001b[0;34m\u001b[0m\u001b[0m\n\u001b[0m\u001b[1;32m    424\u001b[0m         )\n\u001b[1;32m    425\u001b[0m \u001b[0;34m\u001b[0m\u001b[0m\n",
            "\u001b[0;32m/usr/lib/python3.7/ssl.py\u001b[0m in \u001b[0;36m_create\u001b[0;34m(cls, sock, server_side, do_handshake_on_connect, suppress_ragged_eofs, server_hostname, context, session)\u001b[0m\n\u001b[1;32m    868\u001b[0m                         \u001b[0;31m# non-blocking\u001b[0m\u001b[0;34m\u001b[0m\u001b[0;34m\u001b[0m\u001b[0;34m\u001b[0m\u001b[0m\n\u001b[1;32m    869\u001b[0m                         \u001b[0;32mraise\u001b[0m \u001b[0mValueError\u001b[0m\u001b[0;34m(\u001b[0m\u001b[0;34m\"do_handshake_on_connect should not be specified for non-blocking sockets\"\u001b[0m\u001b[0;34m)\u001b[0m\u001b[0;34m\u001b[0m\u001b[0;34m\u001b[0m\u001b[0m\n\u001b[0;32m--> 870\u001b[0;31m                     \u001b[0mself\u001b[0m\u001b[0;34m.\u001b[0m\u001b[0mdo_handshake\u001b[0m\u001b[0;34m(\u001b[0m\u001b[0;34m)\u001b[0m\u001b[0;34m\u001b[0m\u001b[0;34m\u001b[0m\u001b[0m\n\u001b[0m\u001b[1;32m    871\u001b[0m             \u001b[0;32mexcept\u001b[0m \u001b[0;34m(\u001b[0m\u001b[0mOSError\u001b[0m\u001b[0;34m,\u001b[0m \u001b[0mValueError\u001b[0m\u001b[0;34m)\u001b[0m\u001b[0;34m:\u001b[0m\u001b[0;34m\u001b[0m\u001b[0;34m\u001b[0m\u001b[0m\n\u001b[1;32m    872\u001b[0m                 \u001b[0mself\u001b[0m\u001b[0;34m.\u001b[0m\u001b[0mclose\u001b[0m\u001b[0;34m(\u001b[0m\u001b[0;34m)\u001b[0m\u001b[0;34m\u001b[0m\u001b[0;34m\u001b[0m\u001b[0m\n",
            "\u001b[0;32m/usr/lib/python3.7/ssl.py\u001b[0m in \u001b[0;36mdo_handshake\u001b[0;34m(self, block)\u001b[0m\n\u001b[1;32m   1137\u001b[0m             \u001b[0;32mif\u001b[0m \u001b[0mtimeout\u001b[0m \u001b[0;34m==\u001b[0m \u001b[0;36m0.0\u001b[0m \u001b[0;32mand\u001b[0m \u001b[0mblock\u001b[0m\u001b[0;34m:\u001b[0m\u001b[0;34m\u001b[0m\u001b[0;34m\u001b[0m\u001b[0m\n\u001b[1;32m   1138\u001b[0m                 \u001b[0mself\u001b[0m\u001b[0;34m.\u001b[0m\u001b[0msettimeout\u001b[0m\u001b[0;34m(\u001b[0m\u001b[0;32mNone\u001b[0m\u001b[0;34m)\u001b[0m\u001b[0;34m\u001b[0m\u001b[0;34m\u001b[0m\u001b[0m\n\u001b[0;32m-> 1139\u001b[0;31m             \u001b[0mself\u001b[0m\u001b[0;34m.\u001b[0m\u001b[0m_sslobj\u001b[0m\u001b[0;34m.\u001b[0m\u001b[0mdo_handshake\u001b[0m\u001b[0;34m(\u001b[0m\u001b[0;34m)\u001b[0m\u001b[0;34m\u001b[0m\u001b[0;34m\u001b[0m\u001b[0m\n\u001b[0m\u001b[1;32m   1140\u001b[0m         \u001b[0;32mfinally\u001b[0m\u001b[0;34m:\u001b[0m\u001b[0;34m\u001b[0m\u001b[0;34m\u001b[0m\u001b[0m\n\u001b[1;32m   1141\u001b[0m             \u001b[0mself\u001b[0m\u001b[0;34m.\u001b[0m\u001b[0msettimeout\u001b[0m\u001b[0;34m(\u001b[0m\u001b[0mtimeout\u001b[0m\u001b[0;34m)\u001b[0m\u001b[0;34m\u001b[0m\u001b[0;34m\u001b[0m\u001b[0m\n",
            "\u001b[0;31mKeyboardInterrupt\u001b[0m: "
          ]
        }
      ]
    },
    {
      "cell_type": "code",
      "metadata": {
        "colab": {
          "base_uri": "https://localhost:8080/"
        },
        "id": "XphNRtxwga9a",
        "outputId": "6b83a91e-aed3-4d58-d978-6379d48df30e"
      },
      "source": [
        "{\"Board\":\"biz\",\n",
        " \"BoardInfo\":\"\\u003cfont color=\\\"red\\\"\\u003eНе нужны: поиск работы по найму, пирамиды и ваши реферальные ссылки, волшебные кошельки, выпрашивание денег у анонов и хайп-проекты.\\u003cbr\\u003eОбсуждение работы и карьеры в \\u003ca href=\\\"https://2ch.hk/wrk/\\\"\\u003e/wrk/\\u003c/a\\u003e Вопросы юридического характера можно решить в \\u003ca href=\\\"https://2ch.hk/law/\\\"\\u003e/law/\\u003c/a\\u003e Криптовалюты в \\u003ca href=\\\"https://2ch.hk/cc/\\\"\\u003e/сс/\\u003c/a\\u003e\\u003c/font\\u003e\",\n",
        " \"BoardInfoOuter\":\"бизнес, сириуз бизнес\",\n",
        " \"BoardName\":\"Бизнес\",\n",
        " \"advert_bottom_image\":\"/banners/CExQeE4tdixQmH1q.jpg\",\n",
        " \"advert_bottom_link\":\"/banners/CExQeE4tdixQmH1q/\",\n",
        " \"advert_mobile_image\":\"/banners/0LyqzyvkiidLWqqm.jpg\",\n",
        " \"advert_mobile_link\":\"/banners/0LyqzyvkiidLWqqm/\",\n",
        " \"advert_top_image\":\"/banners/kVoisYw85yR6eb16.jpg\",\n",
        " \"advert_top_link\":\"/banners/kVoisYw85yR6eb16/\",\n",
        " \"board_banner_image\":\"/ololo/d_4.png\",\n",
        " \"board_banner_link\":\"d\",\n",
        " \"bump_limit\":500,\n",
        " \"current_thread\":\"1519294\",\n",
        " \"default_name\":\"Аноним\",\n",
        " \"enable_dices\":0,\n",
        " \"enable_flags\":0,\n",
        " \"enable_icons\":0,\n",
        " \"enable_images\":1,\n",
        " \"enable_likes\":0,\n",
        " \"enable_names\":1,\n",
        " \"enable_oekaki\":0,\n",
        " \"enable_posting\":1,\n",
        " \"enable_sage\":1,\n",
        " \"enable_shield\":0,\n",
        " \"enable_subject\":1,\"enable_thread_tags\":0,\"enable_trips\":1,\"enable_video\":1,\"files_count\":1,\"is_board\":0,\"is_closed\":0,\"is_index\":0,\"max_comment\":15000,\"max_files_size\":40960,\"max_num\":1524248,\"news_abu\":[{\"date\":\"02/12/16\",\"num\":54946,\"subject\":\"Конкурс визуальных новелл доски /ruvn/\",\"views\":146},{\"date\":\"15/11/16\",\"num\":53612,\"subject\":\"**НОВЫЙ ФУНКЦИОНАЛ** - Стикеры\",\"views\":38863},{\"date\":\"09/10/16\",\"num\":52084,\"subject\":\"Открыта доска /int/ - International, давайте расскажем о ней!\",\"views\":34216}],\"posts_count\":5,\"thread_first_image\":\"/biz/src/1519294/16200360096610.jpg\",\"threads\":[{\"posts\":[{\"banned\":0,\"closed\":0,\"comment\":\"Что можно открыть в подвале в городе без вложения денег в ремонт\\u003cbr\\u003e\\u003cbr\\u003eЕсть подвальное помещение, раньше использовалось под офис, сейчас в убитом состояние. Хочу хоть как-то на нем зарабатывать, но в голову приходит только какое-нибудь изготовление ключей. \\u003cbr\\u003e\\u003cbr\\u003eАнончики направьте пожалуйста, в какую сторону двигаться\",\"date\":\"03/05/21 Пнд 13:00:08\",\"email\":\"\",\"endless\":0,\"files\":[{\"displayname\":\"IMG202102071056[...].jpg\",\"fullname\":\"IMG20210207105628584.jpg\",\"height\":777,\"md5\":\"f3c5bf34e01b2dfff7e1d19b805c4693\",\"name\":\"16200360096610.jpg\",\"nsfw\":0,\"path\":\"/biz/src/1519294/16200360096610.jpg\",\"size\":75,\"thumbnail\":\"/biz/thumb/1519294/16200360096610s.jpg\",\"tn_height\":250,\"tn_width\":241,\"type\":1,\"width\":750}],\"lasthit\":1620381126,\"name\":\"Аноним\",\"num\":1519294,\"number\":1,\"op\":0,\"parent\":\"0\",\"sticky\":0,\"subject\":\"Что можно открыть в подвале в городе без вложения\",\"tags\":\"\",\"timestamp\":1620036008,\"trip\":\"\"},{\"banned\":0,\"closed\":0,\"comment\":\"Сколько квадратных метров? Отопление свет дорогие? Какая климатическая зона? Сколько этажная застройка вокруг? Ну там одноэтажные домики или башни по 40 этажей?\",\"date\":\"03/05/21 Пнд 14:54:45\",\"email\":\"\",\"endless\":0,\"files\":[],\"lasthit\":1620381126,\"name\":\"Аноним\",\"num\":1519315,\"number\":2,\"op\":0,\"parent\":\"1519294\",\"sticky\":0,\"subject\":\"\",\"timestamp\":1620042885,\"trip\":\"\"},{\"banned\":0,\"closed\":0,\"comment\":\"\\u003ca href=\\\"/biz/res/1519294.html#1519315\\\" class=\\\"post-reply-link\\\" data-thread=\\\"1519294\\\" data-num=\\\"1519315\\\"\\u003e\\u003e\\u003e1519315\\u003c/a\\u003e\\u003cbr\\u003e70 квадратов, отопление и свет хз. ЦФО, а если точнее, то Калуга.\\u003cbr\\u003eесть и 5-этажки, есть и многоэтажные дома. совсем рядом почти достроили несколько многоэтажных домов.\",\"date\":\"03/05/21 Пнд 15:23:14\",\"email\":\"\",\"endless\":0,\"files\":[],\"lasthit\":1620381126,\"name\":\"Аноним\",\"num\":1519329,\"number\":3,\"op\":0,\"parent\":\"1519294\",\"sticky\":0,\"subject\":\"\",\"timestamp\":1620044594,\"trip\":\"\"},{\"banned\":0,\"closed\":0,\"comment\":\"\\u003ca href=\\\"/biz/res/1519294.html#1519294\\\" class=\\\"post-reply-link\\\" data-thread=\\\"1519294\\\" data-num=\\\"1519294\\\"\\u003e\\u003e\\u003e1519294 (OP)\\u003c/a\\u003e\\u003cbr\\u003eКлуб настольных игр, днд там всякое, мтг, Ваха. Разруха только добавит атмосферы.\",\"date\":\"03/05/21 Пнд 15:28:07\",\"email\":\"\",\"endless\":0,\"files\":[],\"lasthit\":1620381126,\"name\":\"Аноним\",\"num\":1519335,\"number\":4,\"op\":0,\"parent\":\"1519294\",\"sticky\":0,\"subject\":\"\",\"timestamp\":1620044887,\"trip\":\"\"},{\"banned\":0,\"closed\":0,\"comment\":\"\\u003ca href=\\\"/biz/res/1519294.html#1519294\\\" class=\\\"post-reply-link\\\" data-thread=\\\"1519294\\\" data-num=\\\"1519294\\\"\\u003e\\u003e\\u003e1519294 (OP)\\u003c/a\\u003e\\u003cbr\\u003eтреш вебкам студио.\\u003cbr\\u003e\\u003cbr\\u003eОхуеть, как же все верят что легко и без вложений можно бабки рубить. Во-первых, уебал помещение - делай ремонт. В помойку ни один клиент не пойдет.\\u003cbr\\u003eВо-вторых, если хочешь бизнес делай любую услугу, в которой разбираешься. Нет понимания? Пиздуй работать и учиться ремеслу.\\u003cbr\\u003eСамый рабочий вариант зарабатывать для таких Васянов с прилипшей недвигой как ты только сдавать в аренду.\\u003cbr\\u003eЕсли есть большое желание все-таки делать бизнес, иди ногами по дворам и смотри что в похожих условиях работает. То примеряй на себя и после запускай.\",\"date\":\"07/05/21 Птн 06:35:00\",\"email\":\"\",\"endless\":0,\"files\":[],\"lasthit\":1620381126,\"name\":\"Аноним\",\"num\":1523970,\"number\":5,\"op\":0,\"parent\":\"1519294\",\"sticky\":0,\"subject\":\"\",\"timestamp\":1620358500,\"trip\":\"\"},{\"banned\":0,\"closed\":0,\"comment\":\"\\u003ca href=\\\"/biz/res/1519294.html#1519294\\\" class=\\\"post-reply-link\\\" data-thread=\\\"1519294\\\" data-num=\\\"1519294\\\"\\u003e\\u003e\\u003e1519294 (OP)\\u003c/a\\u003e\\u003cbr\\u003e\\u003cspan class=\\\"unkfunc\\\"\\u003e&gt; Есть подвальное помещение, раньше использовалось под офис, сейчас в убитом состояние. Хочу хоть как-то на нем зарабатывать, но в голову приходит только какое-нибудь изготовление ключей.\\u003c/span\\u003e\\u003cbr\\u003eСдай его, с условием ремонта в счет аренды. Через годик-другой, когда арендатор раскрутится, выселяешь его из помещения и открываешь по горячим следам анало-гичный бизнес.\",\"date\":\"07/05/21 Птн 12:52:06\",\"email\":\"\",\"endless\":0,\"files\":[],\"lasthit\":1620381126,\"name\":\"Аноним\",\"num\":1524248,\"number\":6,\"op\":0,\"parent\":\"1519294\",\"sticky\":0,\"subject\":\"\",\"timestamp\":1620381126,\"trip\":\"\"}]}],\"title\":\"Что можно открыть в подвале в городе без вложения\",\"top\":[{\"board\":\"2d\",\"info\":\"Щитпостинг, обсуждение вайфу, аватарки и прочее. Анимешный /b/, постинг 3d не приветствуется.\",\"name\":\"Аниме/Беседка\"},{\"board\":\"wwe\",\"info\":\"Доска, посвященная рестлингу: WWE, NXT, TNA, ROH, NJPW, Lucha Underground и многое другое\",\"name\":\"WorldWide Wrestling Universe\"},{\"board\":\"ch\",\"info\":\"Уютные чатики и конфочки\",\"name\":\"Чатики и конфочки\"},{\"board\":\"int\",\"info\":\"This board focuses on international friendship and cultural exchange.\",\"name\":\"International\"},{\"board\":\"ruvn\",\"info\":\"\",\"name\":\"Российские визуальные новеллы\"},{\"board\":\"math\",\"info\":\"Доска о модулях над кольцами, пучках на многообразиях и гомологиях с когомологиями.\",\"name\":\"Математика\"}],\"unique_posters\":\"5\"}"
      ],
      "execution_count": 5,
      "outputs": [
        {
          "output_type": "execute_result",
          "data": {
            "text/plain": [
              "{'Board': 'biz',\n",
              " 'BoardInfo': '<font color=\"red\">Не нужны: поиск работы по найму, пирамиды и ваши реферальные ссылки, волшебные кошельки, выпрашивание денег у анонов и хайп-проекты.<br>Обсуждение работы и карьеры в <a href=\"https://2ch.hk/wrk/\">/wrk/</a> Вопросы юридического характера можно решить в <a href=\"https://2ch.hk/law/\">/law/</a> Криптовалюты в <a href=\"https://2ch.hk/cc/\">/сс/</a></font>',\n",
              " 'BoardInfoOuter': 'бизнес, сириуз бизнес',\n",
              " 'BoardName': 'Бизнес',\n",
              " 'advert_bottom_image': '/banners/CExQeE4tdixQmH1q.jpg',\n",
              " 'advert_bottom_link': '/banners/CExQeE4tdixQmH1q/',\n",
              " 'advert_mobile_image': '/banners/0LyqzyvkiidLWqqm.jpg',\n",
              " 'advert_mobile_link': '/banners/0LyqzyvkiidLWqqm/',\n",
              " 'advert_top_image': '/banners/kVoisYw85yR6eb16.jpg',\n",
              " 'advert_top_link': '/banners/kVoisYw85yR6eb16/',\n",
              " 'board_banner_image': '/ololo/d_4.png',\n",
              " 'board_banner_link': 'd',\n",
              " 'bump_limit': 500,\n",
              " 'current_thread': '1519294',\n",
              " 'default_name': 'Аноним',\n",
              " 'enable_dices': 0,\n",
              " 'enable_flags': 0,\n",
              " 'enable_icons': 0,\n",
              " 'enable_images': 1,\n",
              " 'enable_likes': 0,\n",
              " 'enable_names': 1,\n",
              " 'enable_oekaki': 0,\n",
              " 'enable_posting': 1,\n",
              " 'enable_sage': 1,\n",
              " 'enable_shield': 0,\n",
              " 'enable_subject': 1,\n",
              " 'enable_thread_tags': 0,\n",
              " 'enable_trips': 1,\n",
              " 'enable_video': 1,\n",
              " 'files_count': 1,\n",
              " 'is_board': 0,\n",
              " 'is_closed': 0,\n",
              " 'is_index': 0,\n",
              " 'max_comment': 15000,\n",
              " 'max_files_size': 40960,\n",
              " 'max_num': 1524248,\n",
              " 'news_abu': [{'date': '02/12/16',\n",
              "   'num': 54946,\n",
              "   'subject': 'Конкурс визуальных новелл доски /ruvn/',\n",
              "   'views': 146},\n",
              "  {'date': '15/11/16',\n",
              "   'num': 53612,\n",
              "   'subject': '**НОВЫЙ ФУНКЦИОНАЛ** - Стикеры',\n",
              "   'views': 38863},\n",
              "  {'date': '09/10/16',\n",
              "   'num': 52084,\n",
              "   'subject': 'Открыта доска /int/ - International, давайте расскажем о ней!',\n",
              "   'views': 34216}],\n",
              " 'posts_count': 5,\n",
              " 'thread_first_image': '/biz/src/1519294/16200360096610.jpg',\n",
              " 'threads': [{'posts': [{'banned': 0,\n",
              "     'closed': 0,\n",
              "     'comment': 'Что можно открыть в подвале в городе без вложения денег в ремонт<br><br>Есть подвальное помещение, раньше использовалось под офис, сейчас в убитом состояние. Хочу хоть как-то на нем зарабатывать, но в голову приходит только какое-нибудь изготовление ключей. <br><br>Анончики направьте пожалуйста, в какую сторону двигаться',\n",
              "     'date': '03/05/21 Пнд 13:00:08',\n",
              "     'email': '',\n",
              "     'endless': 0,\n",
              "     'files': [{'displayname': 'IMG202102071056[...].jpg',\n",
              "       'fullname': 'IMG20210207105628584.jpg',\n",
              "       'height': 777,\n",
              "       'md5': 'f3c5bf34e01b2dfff7e1d19b805c4693',\n",
              "       'name': '16200360096610.jpg',\n",
              "       'nsfw': 0,\n",
              "       'path': '/biz/src/1519294/16200360096610.jpg',\n",
              "       'size': 75,\n",
              "       'thumbnail': '/biz/thumb/1519294/16200360096610s.jpg',\n",
              "       'tn_height': 250,\n",
              "       'tn_width': 241,\n",
              "       'type': 1,\n",
              "       'width': 750}],\n",
              "     'lasthit': 1620381126,\n",
              "     'name': 'Аноним',\n",
              "     'num': 1519294,\n",
              "     'number': 1,\n",
              "     'op': 0,\n",
              "     'parent': '0',\n",
              "     'sticky': 0,\n",
              "     'subject': 'Что можно открыть в подвале в городе без вложения',\n",
              "     'tags': '',\n",
              "     'timestamp': 1620036008,\n",
              "     'trip': ''},\n",
              "    {'banned': 0,\n",
              "     'closed': 0,\n",
              "     'comment': 'Сколько квадратных метров? Отопление свет дорогие? Какая климатическая зона? Сколько этажная застройка вокруг? Ну там одноэтажные домики или башни по 40 этажей?',\n",
              "     'date': '03/05/21 Пнд 14:54:45',\n",
              "     'email': '',\n",
              "     'endless': 0,\n",
              "     'files': [],\n",
              "     'lasthit': 1620381126,\n",
              "     'name': 'Аноним',\n",
              "     'num': 1519315,\n",
              "     'number': 2,\n",
              "     'op': 0,\n",
              "     'parent': '1519294',\n",
              "     'sticky': 0,\n",
              "     'subject': '',\n",
              "     'timestamp': 1620042885,\n",
              "     'trip': ''},\n",
              "    {'banned': 0,\n",
              "     'closed': 0,\n",
              "     'comment': '<a href=\"/biz/res/1519294.html#1519315\" class=\"post-reply-link\" data-thread=\"1519294\" data-num=\"1519315\">>>1519315</a><br>70 квадратов, отопление и свет хз. ЦФО, а если точнее, то Калуга.<br>есть и 5-этажки, есть и многоэтажные дома. совсем рядом почти достроили несколько многоэтажных домов.',\n",
              "     'date': '03/05/21 Пнд 15:23:14',\n",
              "     'email': '',\n",
              "     'endless': 0,\n",
              "     'files': [],\n",
              "     'lasthit': 1620381126,\n",
              "     'name': 'Аноним',\n",
              "     'num': 1519329,\n",
              "     'number': 3,\n",
              "     'op': 0,\n",
              "     'parent': '1519294',\n",
              "     'sticky': 0,\n",
              "     'subject': '',\n",
              "     'timestamp': 1620044594,\n",
              "     'trip': ''},\n",
              "    {'banned': 0,\n",
              "     'closed': 0,\n",
              "     'comment': '<a href=\"/biz/res/1519294.html#1519294\" class=\"post-reply-link\" data-thread=\"1519294\" data-num=\"1519294\">>>1519294 (OP)</a><br>Клуб настольных игр, днд там всякое, мтг, Ваха. Разруха только добавит атмосферы.',\n",
              "     'date': '03/05/21 Пнд 15:28:07',\n",
              "     'email': '',\n",
              "     'endless': 0,\n",
              "     'files': [],\n",
              "     'lasthit': 1620381126,\n",
              "     'name': 'Аноним',\n",
              "     'num': 1519335,\n",
              "     'number': 4,\n",
              "     'op': 0,\n",
              "     'parent': '1519294',\n",
              "     'sticky': 0,\n",
              "     'subject': '',\n",
              "     'timestamp': 1620044887,\n",
              "     'trip': ''},\n",
              "    {'banned': 0,\n",
              "     'closed': 0,\n",
              "     'comment': '<a href=\"/biz/res/1519294.html#1519294\" class=\"post-reply-link\" data-thread=\"1519294\" data-num=\"1519294\">>>1519294 (OP)</a><br>треш вебкам студио.<br><br>Охуеть, как же все верят что легко и без вложений можно бабки рубить. Во-первых, уебал помещение - делай ремонт. В помойку ни один клиент не пойдет.<br>Во-вторых, если хочешь бизнес делай любую услугу, в которой разбираешься. Нет понимания? Пиздуй работать и учиться ремеслу.<br>Самый рабочий вариант зарабатывать для таких Васянов с прилипшей недвигой как ты только сдавать в аренду.<br>Если есть большое желание все-таки делать бизнес, иди ногами по дворам и смотри что в похожих условиях работает. То примеряй на себя и после запускай.',\n",
              "     'date': '07/05/21 Птн 06:35:00',\n",
              "     'email': '',\n",
              "     'endless': 0,\n",
              "     'files': [],\n",
              "     'lasthit': 1620381126,\n",
              "     'name': 'Аноним',\n",
              "     'num': 1523970,\n",
              "     'number': 5,\n",
              "     'op': 0,\n",
              "     'parent': '1519294',\n",
              "     'sticky': 0,\n",
              "     'subject': '',\n",
              "     'timestamp': 1620358500,\n",
              "     'trip': ''},\n",
              "    {'banned': 0,\n",
              "     'closed': 0,\n",
              "     'comment': '<a href=\"/biz/res/1519294.html#1519294\" class=\"post-reply-link\" data-thread=\"1519294\" data-num=\"1519294\">>>1519294 (OP)</a><br><span class=\"unkfunc\">&gt; Есть подвальное помещение, раньше использовалось под офис, сейчас в убитом состояние. Хочу хоть как-то на нем зарабатывать, но в голову приходит только какое-нибудь изготовление ключей.</span><br>Сдай его, с условием ремонта в счет аренды. Через годик-другой, когда арендатор раскрутится, выселяешь его из помещения и открываешь по горячим следам анало-гичный бизнес.',\n",
              "     'date': '07/05/21 Птн 12:52:06',\n",
              "     'email': '',\n",
              "     'endless': 0,\n",
              "     'files': [],\n",
              "     'lasthit': 1620381126,\n",
              "     'name': 'Аноним',\n",
              "     'num': 1524248,\n",
              "     'number': 6,\n",
              "     'op': 0,\n",
              "     'parent': '1519294',\n",
              "     'sticky': 0,\n",
              "     'subject': '',\n",
              "     'timestamp': 1620381126,\n",
              "     'trip': ''}]}],\n",
              " 'title': 'Что можно открыть в подвале в городе без вложения',\n",
              " 'top': [{'board': '2d',\n",
              "   'info': 'Щитпостинг, обсуждение вайфу, аватарки и прочее. Анимешный /b/, постинг 3d не приветствуется.',\n",
              "   'name': 'Аниме/Беседка'},\n",
              "  {'board': 'wwe',\n",
              "   'info': 'Доска, посвященная рестлингу: WWE, NXT, TNA, ROH, NJPW, Lucha Underground и многое другое',\n",
              "   'name': 'WorldWide Wrestling Universe'},\n",
              "  {'board': 'ch',\n",
              "   'info': 'Уютные чатики и конфочки',\n",
              "   'name': 'Чатики и конфочки'},\n",
              "  {'board': 'int',\n",
              "   'info': 'This board focuses on international friendship and cultural exchange.',\n",
              "   'name': 'International'},\n",
              "  {'board': 'ruvn', 'info': '', 'name': 'Российские визуальные новеллы'},\n",
              "  {'board': 'math',\n",
              "   'info': 'Доска о модулях над кольцами, пучках на многообразиях и гомологиях с когомологиями.',\n",
              "   'name': 'Математика'}],\n",
              " 'unique_posters': '5'}"
            ]
          },
          "metadata": {
            "tags": []
          },
          "execution_count": 5
        }
      ]
    },
    {
      "cell_type": "code",
      "metadata": {
        "id": "BxJx2z0khLkm"
      },
      "source": [
        ""
      ],
      "execution_count": null,
      "outputs": []
    }
  ]
}